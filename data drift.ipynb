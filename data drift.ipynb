{
 "cells": [
  {
   "cell_type": "code",
   "execution_count": null,
   "id": "a27ec069-af78-4c0b-87b9-ee36c426b593",
   "metadata": {},
   "outputs": [],
   "source": [
    "import pandas as pd\n",
    "\n",
    "from evidently import Dataset\n",
    "from evidently import DataDefinition\n",
    "from evidently import Report\n",
    "from evidently.presets import DataDriftPreset, DataSummaryPreset\n"
   ]
  },
  {
   "cell_type": "code",
   "execution_count": null,
   "id": "63f9f95b-cb4c-4d6d-8c7b-816acf1eff44",
   "metadata": {},
   "outputs": [],
   "source": [
    "df_2024 = pd.read_csv(\"data/ValeursFoncieres-2024.txt.csv\", \n",
    "\t\tdtype={'code_dept':str, 'code_insee':str})\n",
    "df_2025 = pd.read_csv(\"data/ValeursFoncieres-2025-S1.txt.csv\",\n",
    "\t\tdtype={'code_dept':str, 'code_insee':str})\n"
   ]
  },
  {
   "cell_type": "code",
   "execution_count": null,
   "id": "82662e98-19f4-476e-b058-513d8274b33c",
   "metadata": {},
   "outputs": [],
   "source": [
    "df_2024"
   ]
  },
  {
   "cell_type": "code",
   "execution_count": null,
   "id": "f029d37f-c55f-4881-a982-967162d9cee9",
   "metadata": {},
   "outputs": [],
   "source": [
    "report = Report([\n",
    "    DataSummaryPreset()\n",
    "    #DataDriftPreset()\n",
    "])"
   ]
  },
  {
   "cell_type": "code",
   "execution_count": null,
   "id": "b4889bd2-53ff-43a7-b50d-d5499b6680e8",
   "metadata": {},
   "outputs": [],
   "source": [
    "report.run(reference_data=df_2024, current_data=df_2025)"
   ]
  },
  {
   "cell_type": "code",
   "execution_count": null,
   "id": "e3c12340-aa94-4758-865e-b7550656f8b8",
   "metadata": {},
   "outputs": [],
   "source": [
    "report2 = Report([\n",
    "    #DataSummaryPreset()\n",
    "    DataDriftPreset()\n",
    "])\n",
    "report2.run(reference_data=df_2024, current_data=df_2025)"
   ]
  }
 ],
 "metadata": {
  "kernelspec": {
   "display_name": "Python 3 (ipykernel)",
   "language": "python",
   "name": "python3"
  },
  "language_info": {
   "codemirror_mode": {
    "name": "ipython",
    "version": 3
   },
   "file_extension": ".py",
   "mimetype": "text/x-python",
   "name": "python",
   "nbconvert_exporter": "python",
   "pygments_lexer": "ipython3",
   "version": "3.13.7"
  }
 },
 "nbformat": 4,
 "nbformat_minor": 5
}
